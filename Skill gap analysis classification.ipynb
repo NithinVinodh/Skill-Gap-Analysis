{
 "cells": [
  {
   "cell_type": "code",
   "execution_count": 1,
   "id": "e50cec6d",
   "metadata": {},
   "outputs": [],
   "source": [
    "# Importing required libraries\n",
    "import numpy as np\n",
    "import pandas as pd\n",
    "from sklearn.model_selection import train_test_split\n",
    "from sklearn.preprocessing import LabelEncoder, StandardScaler"
   ]
  },
  {
   "cell_type": "code",
   "execution_count": 2,
   "id": "2fed3fad",
   "metadata": {},
   "outputs": [],
   "source": [
    "# Activation function and helper functions\n",
    "def sigmoid(z):\n",
    "    return 1 / (1 + np.exp(-z))\n",
    "\n",
    "def initialize_weights(n_features):\n",
    "    weights = np.zeros(n_features)\n",
    "    bias = 0\n",
    "    return weights, bias\n",
    "\n",
    "def compute_cost(y, y_pred):\n",
    "    m = len(y)\n",
    "    cost = -(1 / m) * np.sum(y * np.log(y_pred + 1e-10) + (1 - y) * np.log(1 - y_pred + 1e-10))\n",
    "    return cost\n",
    "\n",
    "def compute_gradients(X, y, y_pred):\n",
    "    m = len(y)\n",
    "    dw = (1 / m) * np.dot(X.T, (y_pred - y))\n",
    "    db = (1 / m) * np.sum(y_pred - y)\n",
    "    return dw, db"
   ]
  },
  {
   "cell_type": "code",
   "execution_count": 3,
   "id": "33689307",
   "metadata": {},
   "outputs": [],
   "source": [
    "# Logistic Regression Training\n",
    "def train_logistic_regression(X, y, learning_rate=0.01, n_iterations=1000):\n",
    "    n_features = X.shape[1]\n",
    "    weights, bias = initialize_weights(n_features)\n",
    "    cost_history = []\n",
    "\n",
    "    for i in range(n_iterations):\n",
    "        z = np.dot(X, weights) + bias\n",
    "        y_pred = sigmoid(z)\n",
    "        cost = compute_cost(y, y_pred)\n",
    "        cost_history.append(cost)\n",
    "        dw, db = compute_gradients(X, y, y_pred)\n",
    "        weights -= learning_rate * dw\n",
    "        bias -= learning_rate * db\n",
    "    return weights, bias, cost_history"
   ]
  },
  {
   "cell_type": "code",
   "execution_count": 4,
   "id": "28e36816",
   "metadata": {},
   "outputs": [],
   "source": [
    "# Prediction Function\n",
    "def predict(X, weights, bias):\n",
    "    z = np.dot(X, weights) + bias\n",
    "    y_pred = sigmoid(z)\n",
    "    return np.where(y_pred >= 0.5, 1, 0)"
   ]
  },
  {
   "cell_type": "code",
   "execution_count": 5,
   "id": "be5c4880",
   "metadata": {},
   "outputs": [],
   "source": [
    "# Evaluation Function\n",
    "def evaluate_model(y_true, y_pred):\n",
    "    accuracy = np.mean(y_true == y_pred)\n",
    "    return accuracy"
   ]
  },
  {
   "cell_type": "code",
   "execution_count": 6,
   "id": "166956e2",
   "metadata": {},
   "outputs": [
    {
     "name": "stdout",
     "output_type": "stream",
     "text": [
      "Synthetic dataset saved as 'Skill_Gap_Data.csv'\n"
     ]
    }
   ],
   "source": [
    "# Create a synthetic dataset\n",
    "np.random.seed(42)\n",
    "\n",
    "data = {\n",
    "    \"Experience_Years\": np.random.randint(0, 20, size=100),\n",
    "    \"Certifications\": np.random.choice([\"Yes\", \"No\"], size=100),\n",
    "    \"Skill_Score\": np.random.randint(30, 100, size=100),\n",
    "    \"Required_Skill_Score\": np.random.randint(40, 100, size=100),\n",
    "    \"Skill_Gap\": np.random.choice([\"Gap\", \"No Gap\"], size=100)\n",
    "}\n",
    "\n",
    "df = pd.DataFrame(data)\n",
    "\n",
    "# Save the dataset as a CSV file\n",
    "df.to_csv(\"Skill_Gap_Data.csv\", index=False)\n",
    "\n",
    "print(\"Synthetic dataset saved as 'Skill_Gap_Data.csv'\")"
   ]
  },
  {
   "cell_type": "code",
   "execution_count": 7,
   "id": "9ec9286c",
   "metadata": {},
   "outputs": [],
   "source": [
    "# Load the data\n",
    "data = pd.read_csv('Skill_Gap_Data.csv')"
   ]
  },
  {
   "cell_type": "code",
   "execution_count": 8,
   "id": "9b3cc627",
   "metadata": {},
   "outputs": [],
   "source": [
    "# Data Preprocessing\n",
    "# Convert necessary columns to numeric or binary (example transformation)\n",
    "data['Experience_Years'] = pd.to_numeric(data['Experience_Years'], errors='coerce')\n",
    "data['Certifications'] = data['Certifications'].map({'Yes': 1, 'No': 0})\n",
    "data['Skill_Score'] = pd.to_numeric(data['Skill_Score'], errors='coerce')\n",
    "data['Required_Skill_Score'] = pd.to_numeric(data['Required_Skill_Score'], errors='coerce')\n"
   ]
  },
  {
   "cell_type": "code",
   "execution_count": 9,
   "id": "56675882",
   "metadata": {},
   "outputs": [],
   "source": [
    "# Select features and target variable\n",
    "X = data[['Experience_Years', 'Certifications', 'Skill_Score', 'Required_Skill_Score']]\n",
    "y = data['Skill_Gap']  # Target variable (e.g., \"Gap\" or \"No Gap\")\n"
   ]
  },
  {
   "cell_type": "code",
   "execution_count": 10,
   "id": "1ded0e41",
   "metadata": {},
   "outputs": [],
   "source": [
    "# Encode the target variable\n",
    "label_encoder = LabelEncoder()\n",
    "y_encoded = label_encoder.fit_transform(y)"
   ]
  },
  {
   "cell_type": "code",
   "execution_count": 11,
   "id": "2dddc9b6",
   "metadata": {},
   "outputs": [
    {
     "name": "stderr",
     "output_type": "stream",
     "text": [
      "C:\\Users\\nithi\\AppData\\Local\\Temp\\ipykernel_12840\\971075024.py:2: SettingWithCopyWarning: \n",
      "A value is trying to be set on a copy of a slice from a DataFrame\n",
      "\n",
      "See the caveats in the documentation: https://pandas.pydata.org/pandas-docs/stable/user_guide/indexing.html#returning-a-view-versus-a-copy\n",
      "  X.dropna(inplace=True)\n"
     ]
    }
   ],
   "source": [
    "# Drop rows with missing values\n",
    "X.dropna(inplace=True)\n",
    "y_encoded = y_encoded[X.index.isin(X.dropna().index)]"
   ]
  },
  {
   "cell_type": "code",
   "execution_count": 12,
   "id": "da018bac",
   "metadata": {},
   "outputs": [],
   "source": [
    "# Split data into training and testing sets\n",
    "X_train, X_test, y_train, y_test = train_test_split(X.values, y_encoded, test_size=0.2, random_state=42)\n"
   ]
  },
  {
   "cell_type": "code",
   "execution_count": 13,
   "id": "81fedb60",
   "metadata": {},
   "outputs": [],
   "source": [
    "# Standardize features\n",
    "scaler = StandardScaler()\n",
    "X_train_scaled = scaler.fit_transform(X_train)\n",
    "X_test_scaled = scaler.transform(X_test)"
   ]
  },
  {
   "cell_type": "code",
   "execution_count": 14,
   "id": "8a1b8f05",
   "metadata": {},
   "outputs": [],
   "source": [
    "# Train the model\n",
    "weights, bias, cost_history = train_logistic_regression(X_train_scaled, y_train, learning_rate=0.01, n_iterations=1000)\n"
   ]
  },
  {
   "cell_type": "code",
   "execution_count": 15,
   "id": "5d8b23a9",
   "metadata": {},
   "outputs": [],
   "source": [
    "# Make predictions\n",
    "y_pred = predict(X_test_scaled, weights, bias)\n"
   ]
  },
  {
   "cell_type": "code",
   "execution_count": 16,
   "id": "3fb5c153",
   "metadata": {},
   "outputs": [
    {
     "name": "stdout",
     "output_type": "stream",
     "text": [
      "Accuracy: 40.00%\n"
     ]
    }
   ],
   "source": [
    "# Evaluate the model\n",
    "accuracy = evaluate_model(y_test, y_pred)\n",
    "print(f\"Accuracy: {accuracy * 100:.2f}%\")\n"
   ]
  },
  {
   "cell_type": "code",
   "execution_count": 17,
   "id": "5642c2c7",
   "metadata": {},
   "outputs": [
    {
     "data": {
      "image/png": "[encoded data removed]",
      "text/plain": [
       "<Figure size 640x480 with 1 Axes>"
      ]
     },
     "metadata": {},
     "output_type": "display_data"
    }
   ],
   "source": [
    "import matplotlib.pyplot as plt\n",
    "plt.plot(cost_history)\n",
    "plt.title(\"Cost Function History\")\n",
    "plt.xlabel(\"Iterations\")\n",
    "plt.ylabel(\"Cost\")\n",
    "plt.show()"
   ]
  },
  {
   "cell_type": "code",
   "execution_count": null,
   "id": "8f1c2856",
   "metadata": {},
   "outputs": [],
   "source": []
  }
 ],
 "metadata": {
  "kernelspec": {
   "display_name": "Python 3 (ipykernel)",
   "language": "python",
   "name": "python3"
  },
  "language_info": {
   "codemirror_mode": {
    "name": "ipython",
    "version": 3
   },
   "file_extension": ".py",
   "mimetype": "text/x-python",
   "name": "python",
   "nbconvert_exporter": "python",
   "pygments_lexer": "ipython3",
   "version": "3.10.9"
  }
 },
 "nbformat": 4,
 "nbformat_minor": 5
}
